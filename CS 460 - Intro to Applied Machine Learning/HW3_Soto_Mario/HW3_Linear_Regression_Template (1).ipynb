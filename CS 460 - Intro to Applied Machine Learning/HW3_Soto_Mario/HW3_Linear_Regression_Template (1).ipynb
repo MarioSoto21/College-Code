{
  "nbformat": 4,
  "nbformat_minor": 0,
  "metadata": {
    "colab": {
      "provenance": []
    },
    "kernelspec": {
      "name": "python3",
      "display_name": "Python 3"
    },
    "language_info": {
      "name": "python"
    }
  },
  "cells": [
    {
      "cell_type": "markdown",
      "source": [
        "## Objective\n",
        "\n",
        "In this assignment you will build a simple linear regression model and a polynomial regression model.\n",
        "\n",
        "Then, you will compare the results to determine which one produces the best results."
      ],
      "metadata": {
        "id": "RNcx0GAwoiG3"
      }
    },
    {
      "cell_type": "markdown",
      "source": [
        "### Import the libraries and methods needed for this project"
      ],
      "metadata": {
        "id": "A-E9nPclpcQw"
      }
    },
    {
      "cell_type": "code",
      "execution_count": 57,
      "metadata": {
        "id": "h3-GaqzjoQT5"
      },
      "outputs": [],
      "source": [
        "\"\"\" Import the libraries\n",
        "\n",
        "numpy\n",
        "pandas\n",
        "matplotlib\n",
        "From sklearn import\n",
        "- Linear Regression\n",
        "- Polynomial Features\n",
        "- Label Encoder\n",
        "- Train-Test split\n",
        "- metrics: MAE, MSE, R2 Score\n",
        "\n",
        "\"\"\"\n",
        "\n",
        "#<--- Your code goes here --->\n",
        "import numpy as np\n",
        "import pandas as pd\n",
        "import matplotlib.pyplot as plt\n",
        "from sklearn.linear_model import LinearRegression\n",
        "from sklearn.preprocessing import PolynomialFeatures, LabelEncoder\n",
        "from sklearn.model_selection import train_test_split\n",
        "from sklearn.metrics import mean_absolute_error, mean_squared_error, r2_score\n",
        "import numpy as np\n"
      ]
    },
    {
      "cell_type": "markdown",
      "source": [
        "### Load the data from the file \"insurance.csv\"\n",
        "\n",
        "The file is on Canvas"
      ],
      "metadata": {
        "id": "T-ftKRX9qIw0"
      }
    },
    {
      "cell_type": "code",
      "source": [
        "# The path will depend on your Google Drive\n",
        "#<--- Your code goes here --->\n",
        "from google.colab import drive\n",
        "\n",
        "# Mount Google Drive\n",
        "drive.mount('/content/drive')\n",
        "data = pd.read_csv('/content/drive/My Drive/insurance.csv')\n",
        "\n"
      ],
      "metadata": {
        "id": "Ogq5Dk5_pmuK",
        "colab": {
          "base_uri": "https://localhost:8080/"
        },
        "outputId": "b8795125-6958-475e-d57b-611ed7622cb7"
      },
      "execution_count": 20,
      "outputs": [
        {
          "output_type": "stream",
          "name": "stdout",
          "text": [
            "Drive already mounted at /content/drive; to attempt to forcibly remount, call drive.mount(\"/content/drive\", force_remount=True).\n"
          ]
        }
      ]
    },
    {
      "cell_type": "code",
      "source": [
        "# Show the first five rows\n",
        "#<--- Your code goes here --->\n",
        "print(data.head())\n",
        "\n"
      ],
      "metadata": {
        "colab": {
          "base_uri": "https://localhost:8080/"
        },
        "id": "HYeYaqL2qOtu",
        "outputId": "3c44172b-b221-4586-95cf-ba33eb67c772"
      },
      "execution_count": 21,
      "outputs": [
        {
          "output_type": "stream",
          "name": "stdout",
          "text": [
            "   age     sex     bmi  children smoker     region      charges\n",
            "0   19  female  27.900         0    yes  southwest  16884.92400\n",
            "1   18    male  33.770         1     no  southeast   1725.55230\n",
            "2   28    male  33.000         3     no  southeast   4449.46200\n",
            "3   33    male  22.705         0     no  northwest  21984.47061\n",
            "4   32    male  28.880         0     no  northwest   3866.85520\n"
          ]
        }
      ]
    },
    {
      "cell_type": "markdown",
      "source": [
        "### Let's preprocess the data"
      ],
      "metadata": {
        "id": "3ItRPcHwqVvx"
      }
    },
    {
      "cell_type": "code",
      "source": [
        "## Use a Label Encode to encode the columns \"sex\",\"smoker\", and \"region\"\n",
        "\n",
        "#<--- Your code goes here --->\n",
        "# Create a LabelEncoder object\n",
        "label_encoder = LabelEncoder()\n",
        "\n",
        "# Encode the 'sex' column\n",
        "data['sex_idx'] = label_encoder.fit_transform(data['sex'])\n",
        "\n",
        "# Encode the 'smoker' column\n",
        "data['smoker_idx'] = label_encoder.fit_transform(data['smoker'])\n",
        "\n",
        "# Encode the 'region' column\n",
        "data['region_idx'] = label_encoder.fit_transform(data['region'])\n",
        "\n"
      ],
      "metadata": {
        "id": "STyUu3lRqYiF"
      },
      "execution_count": 23,
      "outputs": []
    },
    {
      "cell_type": "code",
      "source": [
        "# Show the new data\n",
        "#<--- Your code goes here --->\n",
        "print(data)"
      ],
      "metadata": {
        "colab": {
          "base_uri": "https://localhost:8080/"
        },
        "id": "fEwoT1tUqkJy",
        "outputId": "96b87042-121b-4fae-f23b-69407eebe394"
      },
      "execution_count": 26,
      "outputs": [
        {
          "output_type": "stream",
          "name": "stdout",
          "text": [
            "      age     sex     bmi  children smoker     region      charges  sex_idx  \\\n",
            "0      19  female  27.900         0    yes  southwest  16884.92400        0   \n",
            "1      18    male  33.770         1     no  southeast   1725.55230        1   \n",
            "2      28    male  33.000         3     no  southeast   4449.46200        1   \n",
            "3      33    male  22.705         0     no  northwest  21984.47061        1   \n",
            "4      32    male  28.880         0     no  northwest   3866.85520        1   \n",
            "...   ...     ...     ...       ...    ...        ...          ...      ...   \n",
            "1333   50    male  30.970         3     no  northwest  10600.54830        1   \n",
            "1334   18  female  31.920         0     no  northeast   2205.98080        0   \n",
            "1335   18  female  36.850         0     no  southeast   1629.83350        0   \n",
            "1336   21  female  25.800         0     no  southwest   2007.94500        0   \n",
            "1337   61  female  29.070         0    yes  northwest  29141.36030        0   \n",
            "\n",
            "      smoker_idx  region_idx  \n",
            "0              1           3  \n",
            "1              0           2  \n",
            "2              0           2  \n",
            "3              0           1  \n",
            "4              0           1  \n",
            "...          ...         ...  \n",
            "1333           0           1  \n",
            "1334           0           0  \n",
            "1335           0           2  \n",
            "1336           0           3  \n",
            "1337           1           1  \n",
            "\n",
            "[1338 rows x 10 columns]\n"
          ]
        }
      ]
    },
    {
      "cell_type": "markdown",
      "source": [
        "### Split the dataframe into X and y"
      ],
      "metadata": {
        "id": "DgT44YkEqs9f"
      }
    },
    {
      "cell_type": "code",
      "source": [
        "# Use the following columns for X: \"age\", \"sex_idx\", \"smoker_idx\", \"region_idx\", \"bmi\", \"children\"\n",
        "# Use 'charges' for the target variable\n",
        "\n",
        "#<--- Your code goes here --->\n",
        "# Selecting features (X) and target variable (y)\n",
        "X = data[['age', 'sex_idx', 'smoker_idx', 'region_idx', 'bmi', 'children']]\n",
        "y = data['charges']\n",
        "\n",
        "# Displaying the shape of X and y\n",
        "print(\"Shape of X:\", X.shape)\n",
        "print(\"Shape of y:\", y.shape)\n"
      ],
      "metadata": {
        "id": "-9Z3DgYrqzKl",
        "colab": {
          "base_uri": "https://localhost:8080/"
        },
        "outputId": "cf1237c4-021f-4d17-a0be-e7622b570eb2"
      },
      "execution_count": 27,
      "outputs": [
        {
          "output_type": "stream",
          "name": "stdout",
          "text": [
            "Shape of X: (1338, 6)\n",
            "Shape of y: (1338,)\n"
          ]
        }
      ]
    },
    {
      "cell_type": "markdown",
      "source": [
        "### Let's first create a simple Linear Regression model"
      ],
      "metadata": {
        "id": "YXqLZDvOrNYc"
      }
    },
    {
      "cell_type": "markdown",
      "source": [
        "#### Get train and test data"
      ],
      "metadata": {
        "id": "66idaYJXrZbc"
      }
    },
    {
      "cell_type": "code",
      "source": [
        "# use 80% for training and 20% for testing. Use 42 as the random seed.\n",
        "\n",
        "#<--- Your code goes here --->\n",
        "\n",
        "# Splitting the data into training and testing sets\n",
        "X_train, X_test, y_train, y_test = train_test_split(X, y, test_size=0.2, random_state=42)\n",
        "\n",
        "# Displaying the shapes of the training and testing sets\n",
        "print(\"X_train shape:\", X_train.shape)\n",
        "print(\"X_test shape:\", X_test.shape)\n",
        "print(\"y_train shape:\", y_train.shape)\n",
        "print(\"y_test shape:\", y_test.shape)\n"
      ],
      "metadata": {
        "id": "y67jUL_mrfeS",
        "colab": {
          "base_uri": "https://localhost:8080/"
        },
        "outputId": "68b15bec-1824-49d4-ccce-dee0b98a4771"
      },
      "execution_count": 37,
      "outputs": [
        {
          "output_type": "stream",
          "name": "stdout",
          "text": [
            "X_train shape: (1070, 6)\n",
            "X_test shape: (268, 6)\n",
            "y_train shape: (1070,)\n",
            "y_test shape: (268,)\n"
          ]
        }
      ]
    },
    {
      "cell_type": "markdown",
      "source": [
        "#### Print the number of rows and columns for each dataset"
      ],
      "metadata": {
        "id": "QX96WdEGog6s"
      }
    },
    {
      "cell_type": "code",
      "source": [
        "#<--- Your code goes here --->\n",
        "# Print the number of rows and columns for the training set\n",
        "print(\"Training set:\")\n",
        "print(\"Number of rows:\", X_train.shape[0])\n",
        "print(\"Number of columns:\", X_train.shape[1])\n",
        "\n",
        "# Print the number of rows and columns for the testing set\n",
        "print(\"\\nTesting set:\")\n",
        "print(\"Number of rows:\", X_test.shape[0])\n",
        "print(\"Number of columns:\", X_test.shape[1])\n"
      ],
      "metadata": {
        "colab": {
          "base_uri": "https://localhost:8080/"
        },
        "id": "wNquUL0zryq9",
        "outputId": "6261519d-c0b1-4b4c-df7f-f6542ec61b99"
      },
      "execution_count": 38,
      "outputs": [
        {
          "output_type": "stream",
          "name": "stdout",
          "text": [
            "Training set:\n",
            "Number of rows: 1070\n",
            "Number of columns: 6\n",
            "\n",
            "Testing set:\n",
            "Number of rows: 268\n",
            "Number of columns: 6\n"
          ]
        }
      ]
    },
    {
      "cell_type": "markdown",
      "source": [
        "### Create a simple Linear Regression model"
      ],
      "metadata": {
        "id": "NjEgWPyhsGw5"
      }
    },
    {
      "cell_type": "code",
      "source": [
        "# Instantiate a new Linear Regression model\n",
        "#<--- Your code goes here --->\n",
        "linear_regression_model = LinearRegression()\n",
        "\n",
        "# Train the model\n",
        "#<--- Your code goes here --->\n",
        "linear_regression_model.fit(X_train, y_train)"
      ],
      "metadata": {
        "colab": {
          "base_uri": "https://localhost:8080/",
          "height": 75
        },
        "id": "_ZBJHP74sEFM",
        "outputId": "f515d9c8-f149-4405-d0f2-d1bff5656faa"
      },
      "execution_count": 40,
      "outputs": [
        {
          "output_type": "execute_result",
          "data": {
            "text/plain": [
              "LinearRegression()"
            ],
            "text/html": [
              "<style>#sk-container-id-2 {color: black;background-color: white;}#sk-container-id-2 pre{padding: 0;}#sk-container-id-2 div.sk-toggleable {background-color: white;}#sk-container-id-2 label.sk-toggleable__label {cursor: pointer;display: block;width: 100%;margin-bottom: 0;padding: 0.3em;box-sizing: border-box;text-align: center;}#sk-container-id-2 label.sk-toggleable__label-arrow:before {content: \"▸\";float: left;margin-right: 0.25em;color: #696969;}#sk-container-id-2 label.sk-toggleable__label-arrow:hover:before {color: black;}#sk-container-id-2 div.sk-estimator:hover label.sk-toggleable__label-arrow:before {color: black;}#sk-container-id-2 div.sk-toggleable__content {max-height: 0;max-width: 0;overflow: hidden;text-align: left;background-color: #f0f8ff;}#sk-container-id-2 div.sk-toggleable__content pre {margin: 0.2em;color: black;border-radius: 0.25em;background-color: #f0f8ff;}#sk-container-id-2 input.sk-toggleable__control:checked~div.sk-toggleable__content {max-height: 200px;max-width: 100%;overflow: auto;}#sk-container-id-2 input.sk-toggleable__control:checked~label.sk-toggleable__label-arrow:before {content: \"▾\";}#sk-container-id-2 div.sk-estimator input.sk-toggleable__control:checked~label.sk-toggleable__label {background-color: #d4ebff;}#sk-container-id-2 div.sk-label input.sk-toggleable__control:checked~label.sk-toggleable__label {background-color: #d4ebff;}#sk-container-id-2 input.sk-hidden--visually {border: 0;clip: rect(1px 1px 1px 1px);clip: rect(1px, 1px, 1px, 1px);height: 1px;margin: -1px;overflow: hidden;padding: 0;position: absolute;width: 1px;}#sk-container-id-2 div.sk-estimator {font-family: monospace;background-color: #f0f8ff;border: 1px dotted black;border-radius: 0.25em;box-sizing: border-box;margin-bottom: 0.5em;}#sk-container-id-2 div.sk-estimator:hover {background-color: #d4ebff;}#sk-container-id-2 div.sk-parallel-item::after {content: \"\";width: 100%;border-bottom: 1px solid gray;flex-grow: 1;}#sk-container-id-2 div.sk-label:hover label.sk-toggleable__label {background-color: #d4ebff;}#sk-container-id-2 div.sk-serial::before {content: \"\";position: absolute;border-left: 1px solid gray;box-sizing: border-box;top: 0;bottom: 0;left: 50%;z-index: 0;}#sk-container-id-2 div.sk-serial {display: flex;flex-direction: column;align-items: center;background-color: white;padding-right: 0.2em;padding-left: 0.2em;position: relative;}#sk-container-id-2 div.sk-item {position: relative;z-index: 1;}#sk-container-id-2 div.sk-parallel {display: flex;align-items: stretch;justify-content: center;background-color: white;position: relative;}#sk-container-id-2 div.sk-item::before, #sk-container-id-2 div.sk-parallel-item::before {content: \"\";position: absolute;border-left: 1px solid gray;box-sizing: border-box;top: 0;bottom: 0;left: 50%;z-index: -1;}#sk-container-id-2 div.sk-parallel-item {display: flex;flex-direction: column;z-index: 1;position: relative;background-color: white;}#sk-container-id-2 div.sk-parallel-item:first-child::after {align-self: flex-end;width: 50%;}#sk-container-id-2 div.sk-parallel-item:last-child::after {align-self: flex-start;width: 50%;}#sk-container-id-2 div.sk-parallel-item:only-child::after {width: 0;}#sk-container-id-2 div.sk-dashed-wrapped {border: 1px dashed gray;margin: 0 0.4em 0.5em 0.4em;box-sizing: border-box;padding-bottom: 0.4em;background-color: white;}#sk-container-id-2 div.sk-label label {font-family: monospace;font-weight: bold;display: inline-block;line-height: 1.2em;}#sk-container-id-2 div.sk-label-container {text-align: center;}#sk-container-id-2 div.sk-container {/* jupyter's `normalize.less` sets `[hidden] { display: none; }` but bootstrap.min.css set `[hidden] { display: none !important; }` so we also need the `!important` here to be able to override the default hidden behavior on the sphinx rendered scikit-learn.org. See: https://github.com/scikit-learn/scikit-learn/issues/21755 */display: inline-block !important;position: relative;}#sk-container-id-2 div.sk-text-repr-fallback {display: none;}</style><div id=\"sk-container-id-2\" class=\"sk-top-container\"><div class=\"sk-text-repr-fallback\"><pre>LinearRegression()</pre><b>In a Jupyter environment, please rerun this cell to show the HTML representation or trust the notebook. <br />On GitHub, the HTML representation is unable to render, please try loading this page with nbviewer.org.</b></div><div class=\"sk-container\" hidden><div class=\"sk-item\"><div class=\"sk-estimator sk-toggleable\"><input class=\"sk-toggleable__control sk-hidden--visually\" id=\"sk-estimator-id-2\" type=\"checkbox\" checked><label for=\"sk-estimator-id-2\" class=\"sk-toggleable__label sk-toggleable__label-arrow\">LinearRegression</label><div class=\"sk-toggleable__content\"><pre>LinearRegression()</pre></div></div></div></div></div>"
            ]
          },
          "metadata": {},
          "execution_count": 40
        }
      ]
    },
    {
      "cell_type": "markdown",
      "source": [
        "#### Make predictions using the test data"
      ],
      "metadata": {
        "id": "7-ahKCcksb8V"
      }
    },
    {
      "cell_type": "code",
      "source": [
        "#<--- Your code goes here --->\n",
        "y_pred = linear_regression_model.predict(X_test)\n",
        "\n",
        "# Display the first few predictions\n",
        "print(\"Predictions:\")\n",
        "print(y_pred[:5])\n"
      ],
      "metadata": {
        "id": "qR5T2zR4sZ6j",
        "colab": {
          "base_uri": "https://localhost:8080/"
        },
        "outputId": "22fd6843-6a39-417e-c35d-3b1484081be1"
      },
      "execution_count": 42,
      "outputs": [
        {
          "output_type": "stream",
          "name": "stdout",
          "text": [
            "Predictions:\n",
            "[ 8924.40724442  7116.29501758 36909.01352144  9507.87469118\n",
            " 27013.3500079 ]\n"
          ]
        }
      ]
    },
    {
      "cell_type": "markdown",
      "source": [
        "### Compute the metrics for this model"
      ],
      "metadata": {
        "id": "6t7RndpdsmRW"
      }
    },
    {
      "cell_type": "code",
      "source": [
        "# Compure MAE\n",
        "#<--- Your code goes here --->\n",
        "mae = mean_absolute_error(y_test, y_pred)\n",
        "print(\"Mean Absolute Error (MAE):\", mae)\n",
        "# Compute MSE\n",
        "#<--- Your code goes here --->\n",
        "mse = mean_squared_error(y_test, y_pred)\n",
        "print(\"Mean Squared Error (MSE):\", mse)\n",
        "# Compute RMSE\n",
        "#<--- Your code goes here --->\n",
        "rmse = np.sqrt(mse)\n",
        "# Display the computed RMSE\n",
        "print(\"Root Mean Squared Error (RMSE):\", rmse)\n",
        "# Compute R2 score\n",
        "#<--- Your code goes here --->\n",
        "r2 = r2_score(y_test, y_pred)\n",
        "print(\"R-squared Score (R2 Score):\", r2)"
      ],
      "metadata": {
        "colab": {
          "base_uri": "https://localhost:8080/"
        },
        "id": "nRhAlWB-sleO",
        "outputId": "0760740c-7b18-4f19-a952-c6f495a95035"
      },
      "execution_count": 47,
      "outputs": [
        {
          "output_type": "stream",
          "name": "stdout",
          "text": [
            "Mean Absolute Error (MAE): 4186.5088983664355\n",
            "Mean Squared Error (MSE): 33635210.431178406\n",
            "Root Mean Squared Error (RMSE): 5799.587091438356\n",
            "R-squared Score (R2 Score): 0.7833463107364539\n"
          ]
        }
      ]
    },
    {
      "cell_type": "markdown",
      "source": [
        "### Plot the residuals (y_test - predictions)"
      ],
      "metadata": {
        "id": "_5nV5Q5cutSJ"
      }
    },
    {
      "cell_type": "code",
      "source": [
        "# residuals = y_test - predictions\n",
        "#<--- Your code goes here --->\n",
        "residuals = y_test - y_pred\n",
        "\n",
        "# x-axis=y_test, y-axis=residuals\n",
        "#<--- Your code goes here --->\n",
        "plt.figure(figsize=(10, 6))\n",
        "plt.scatter(y_test, residuals, alpha=0.5)\n",
        "plt.axhline(y=0, color='red', linestyle='--')\n",
        "plt.title('Residual Plot')\n",
        "plt.xlabel('True Values')\n",
        "plt.ylabel('Residuals')\n",
        "plt.show()\n",
        "\n"
      ],
      "metadata": {
        "colab": {
          "base_uri": "https://localhost:8080/",
          "height": 564
        },
        "id": "4JDWU7Gxsqfq",
        "outputId": "d6e6e7c1-1856-4f2a-d2f4-a8ade9e96952"
      },
      "execution_count": 48,
      "outputs": [
        {
          "output_type": "display_data",
          "data": {
            "text/plain": [
              "<Figure size 1000x600 with 1 Axes>"
            ],
            "image/png": "[encoded data removed]"
          },
          "metadata": {}
        }
      ]
    },
    {
      "cell_type": "markdown",
      "source": [
        "### Now, create a polynomial model"
      ],
      "metadata": {
        "id": "eDAHLAHQvbTb"
      }
    },
    {
      "cell_type": "markdown",
      "source": [
        "#### Use a polynomial trasnformer to train and transform your data\n",
        "\n",
        "Remember that you don't want to have 'data leakage'. Then train the transformer just with X_train"
      ],
      "metadata": {
        "id": "be_02e8fvjK2"
      }
    },
    {
      "cell_type": "code",
      "source": [
        "# Use a degree 2 and do not include bias\n",
        "#<--- Your code goes here --->\n",
        "poly_transformer = PolynomialFeatures(degree=2, include_bias=False)\n",
        "\n",
        "# Create your new X_train and X_test\n",
        "#<--- Your code goes here --->\n",
        "poly_transformer.fit(X_train)\n",
        "\n",
        "X_train_poly = poly_transformer.transform(X_train)\n",
        "X_test_poly = poly_transformer.transform(X_test)"
      ],
      "metadata": {
        "id": "u3WwYTbVvVNV"
      },
      "execution_count": 51,
      "outputs": []
    },
    {
      "cell_type": "code",
      "source": [
        "# Shot the first 3 rows of your new X_train\n",
        "#<--- Your code goes here --->\n",
        "print(X_train_poly[:3])\n"
      ],
      "metadata": {
        "colab": {
          "base_uri": "https://localhost:8080/"
        },
        "id": "NJ7rQ_jCwXAM",
        "outputId": "38b459c3-29f5-4cdf-d57d-15a3e6b9ab86"
      },
      "execution_count": 52,
      "outputs": [
        {
          "output_type": "stream",
          "name": "stdout",
          "text": [
            "[[4.600000e+01 0.000000e+00 0.000000e+00 1.000000e+00 1.995000e+01\n",
            "  2.000000e+00 2.116000e+03 0.000000e+00 0.000000e+00 4.600000e+01\n",
            "  9.177000e+02 9.200000e+01 0.000000e+00 0.000000e+00 0.000000e+00\n",
            "  0.000000e+00 0.000000e+00 0.000000e+00 0.000000e+00 0.000000e+00\n",
            "  0.000000e+00 1.000000e+00 1.995000e+01 2.000000e+00 3.980025e+02\n",
            "  3.990000e+01 4.000000e+00]\n",
            " [4.700000e+01 0.000000e+00 0.000000e+00 0.000000e+00 2.432000e+01\n",
            "  0.000000e+00 2.209000e+03 0.000000e+00 0.000000e+00 0.000000e+00\n",
            "  1.143040e+03 0.000000e+00 0.000000e+00 0.000000e+00 0.000000e+00\n",
            "  0.000000e+00 0.000000e+00 0.000000e+00 0.000000e+00 0.000000e+00\n",
            "  0.000000e+00 0.000000e+00 0.000000e+00 0.000000e+00 5.914624e+02\n",
            "  0.000000e+00 0.000000e+00]\n",
            " [5.200000e+01 0.000000e+00 0.000000e+00 2.000000e+00 2.486000e+01\n",
            "  0.000000e+00 2.704000e+03 0.000000e+00 0.000000e+00 1.040000e+02\n",
            "  1.292720e+03 0.000000e+00 0.000000e+00 0.000000e+00 0.000000e+00\n",
            "  0.000000e+00 0.000000e+00 0.000000e+00 0.000000e+00 0.000000e+00\n",
            "  0.000000e+00 4.000000e+00 4.972000e+01 0.000000e+00 6.180196e+02\n",
            "  0.000000e+00 0.000000e+00]]\n"
          ]
        }
      ]
    },
    {
      "cell_type": "markdown",
      "source": [
        "### Create aand train a new Logistic Regression model"
      ],
      "metadata": {
        "id": "HgBI44SOw4ha"
      }
    },
    {
      "cell_type": "code",
      "source": [
        "# Create a new model\n",
        "#<--- Your code goes here --->\n",
        "linear_regression_model = LinearRegression()\n",
        "# Train the model\n",
        "#<--- Your code goes here --->\n",
        "linear_regression_model.fit(X_train_poly, y_train)\n"
      ],
      "metadata": {
        "colab": {
          "base_uri": "https://localhost:8080/",
          "height": 75
        },
        "id": "rfTayUddwpPZ",
        "outputId": "2b452a23-3f30-49cb-cda3-377b13059b9e"
      },
      "execution_count": 56,
      "outputs": [
        {
          "output_type": "execute_result",
          "data": {
            "text/plain": [
              "LinearRegression()"
            ],
            "text/html": [
              "<style>#sk-container-id-4 {color: black;background-color: white;}#sk-container-id-4 pre{padding: 0;}#sk-container-id-4 div.sk-toggleable {background-color: white;}#sk-container-id-4 label.sk-toggleable__label {cursor: pointer;display: block;width: 100%;margin-bottom: 0;padding: 0.3em;box-sizing: border-box;text-align: center;}#sk-container-id-4 label.sk-toggleable__label-arrow:before {content: \"▸\";float: left;margin-right: 0.25em;color: #696969;}#sk-container-id-4 label.sk-toggleable__label-arrow:hover:before {color: black;}#sk-container-id-4 div.sk-estimator:hover label.sk-toggleable__label-arrow:before {color: black;}#sk-container-id-4 div.sk-toggleable__content {max-height: 0;max-width: 0;overflow: hidden;text-align: left;background-color: #f0f8ff;}#sk-container-id-4 div.sk-toggleable__content pre {margin: 0.2em;color: black;border-radius: 0.25em;background-color: #f0f8ff;}#sk-container-id-4 input.sk-toggleable__control:checked~div.sk-toggleable__content {max-height: 200px;max-width: 100%;overflow: auto;}#sk-container-id-4 input.sk-toggleable__control:checked~label.sk-toggleable__label-arrow:before {content: \"▾\";}#sk-container-id-4 div.sk-estimator input.sk-toggleable__control:checked~label.sk-toggleable__label {background-color: #d4ebff;}#sk-container-id-4 div.sk-label input.sk-toggleable__control:checked~label.sk-toggleable__label {background-color: #d4ebff;}#sk-container-id-4 input.sk-hidden--visually {border: 0;clip: rect(1px 1px 1px 1px);clip: rect(1px, 1px, 1px, 1px);height: 1px;margin: -1px;overflow: hidden;padding: 0;position: absolute;width: 1px;}#sk-container-id-4 div.sk-estimator {font-family: monospace;background-color: #f0f8ff;border: 1px dotted black;border-radius: 0.25em;box-sizing: border-box;margin-bottom: 0.5em;}#sk-container-id-4 div.sk-estimator:hover {background-color: #d4ebff;}#sk-container-id-4 div.sk-parallel-item::after {content: \"\";width: 100%;border-bottom: 1px solid gray;flex-grow: 1;}#sk-container-id-4 div.sk-label:hover label.sk-toggleable__label {background-color: #d4ebff;}#sk-container-id-4 div.sk-serial::before {content: \"\";position: absolute;border-left: 1px solid gray;box-sizing: border-box;top: 0;bottom: 0;left: 50%;z-index: 0;}#sk-container-id-4 div.sk-serial {display: flex;flex-direction: column;align-items: center;background-color: white;padding-right: 0.2em;padding-left: 0.2em;position: relative;}#sk-container-id-4 div.sk-item {position: relative;z-index: 1;}#sk-container-id-4 div.sk-parallel {display: flex;align-items: stretch;justify-content: center;background-color: white;position: relative;}#sk-container-id-4 div.sk-item::before, #sk-container-id-4 div.sk-parallel-item::before {content: \"\";position: absolute;border-left: 1px solid gray;box-sizing: border-box;top: 0;bottom: 0;left: 50%;z-index: -1;}#sk-container-id-4 div.sk-parallel-item {display: flex;flex-direction: column;z-index: 1;position: relative;background-color: white;}#sk-container-id-4 div.sk-parallel-item:first-child::after {align-self: flex-end;width: 50%;}#sk-container-id-4 div.sk-parallel-item:last-child::after {align-self: flex-start;width: 50%;}#sk-container-id-4 div.sk-parallel-item:only-child::after {width: 0;}#sk-container-id-4 div.sk-dashed-wrapped {border: 1px dashed gray;margin: 0 0.4em 0.5em 0.4em;box-sizing: border-box;padding-bottom: 0.4em;background-color: white;}#sk-container-id-4 div.sk-label label {font-family: monospace;font-weight: bold;display: inline-block;line-height: 1.2em;}#sk-container-id-4 div.sk-label-container {text-align: center;}#sk-container-id-4 div.sk-container {/* jupyter's `normalize.less` sets `[hidden] { display: none; }` but bootstrap.min.css set `[hidden] { display: none !important; }` so we also need the `!important` here to be able to override the default hidden behavior on the sphinx rendered scikit-learn.org. See: https://github.com/scikit-learn/scikit-learn/issues/21755 */display: inline-block !important;position: relative;}#sk-container-id-4 div.sk-text-repr-fallback {display: none;}</style><div id=\"sk-container-id-4\" class=\"sk-top-container\"><div class=\"sk-text-repr-fallback\"><pre>LinearRegression()</pre><b>In a Jupyter environment, please rerun this cell to show the HTML representation or trust the notebook. <br />On GitHub, the HTML representation is unable to render, please try loading this page with nbviewer.org.</b></div><div class=\"sk-container\" hidden><div class=\"sk-item\"><div class=\"sk-estimator sk-toggleable\"><input class=\"sk-toggleable__control sk-hidden--visually\" id=\"sk-estimator-id-4\" type=\"checkbox\" checked><label for=\"sk-estimator-id-4\" class=\"sk-toggleable__label sk-toggleable__label-arrow\">LinearRegression</label><div class=\"sk-toggleable__content\"><pre>LinearRegression()</pre></div></div></div></div></div>"
            ]
          },
          "metadata": {},
          "execution_count": 56
        }
      ]
    },
    {
      "cell_type": "markdown",
      "source": [
        "### Make predictions using this model"
      ],
      "metadata": {
        "id": "lnZGiO4KxN8H"
      }
    },
    {
      "cell_type": "code",
      "source": [
        "#<--- Your code goes here --->\n",
        "y_pred_poly = linear_regression_model.predict(X_test_poly)\n",
        "print(\"Predictions:\")\n",
        "print(y_pred_poly[:5])\n"
      ],
      "metadata": {
        "id": "TDVtabYPxJ7O",
        "colab": {
          "base_uri": "https://localhost:8080/"
        },
        "outputId": "a1fc5602-9343-4c15-a8c1-025188490302"
      },
      "execution_count": 61,
      "outputs": [
        {
          "output_type": "stream",
          "name": "stdout",
          "text": [
            "Predictions:\n",
            "[11180.05794894  6571.37648261 34066.03843575 10340.24620623\n",
            " 29435.50134732]\n"
          ]
        }
      ]
    },
    {
      "cell_type": "markdown",
      "source": [
        "### Compute the metrics for this model"
      ],
      "metadata": {
        "id": "fTxBpoDGxZBL"
      }
    },
    {
      "cell_type": "code",
      "source": [
        "# Compure MAE\n",
        "#<--- Your code goes here --->\n",
        "mae_poly = mean_absolute_error(y_test, y_pred_poly)\n",
        "print(\"MAE:\", mae_poly)\n",
        "# Compute MSE\n",
        "#<--- Your code goes here --->\n",
        "mse_poly = mean_squared_error(y_test, y_pred_poly)\n",
        "print(\"MSE:\", mse_poly)\n",
        "# Compute RMSE\n",
        "#<--- Your code goes here --->\n",
        "rmse_poly = np.sqrt(mse_poly)\n",
        "print(\"RMSE:\", rmse_poly)\n",
        "# Compute R2 score\n",
        "#<--- Your code goes here --->\n",
        "r2_poly = r2_score(y_test, y_pred_poly)\n",
        "print(\"R2 Score:\", r2_poly)"
      ],
      "metadata": {
        "colab": {
          "base_uri": "https://localhost:8080/"
        },
        "id": "1awgW_-fxWIA",
        "outputId": "aadce881-d717-4e20-b42b-2b21bb2d7362"
      },
      "execution_count": 63,
      "outputs": [
        {
          "output_type": "stream",
          "name": "stdout",
          "text": [
            "MAE: 2730.315581680473\n",
            "MSE: 20530608.942951925\n",
            "RMSE: 4531.071500534054\n",
            "R2 Score: 0.867756671853774\n"
          ]
        }
      ]
    },
    {
      "cell_type": "markdown",
      "source": [
        "### Plot the residuals (y_test - predictions)"
      ],
      "metadata": {
        "id": "46g2Oq54xmjv"
      }
    },
    {
      "cell_type": "code",
      "source": [
        "# residuals = y_test - predictions\n",
        "#<--- Your code goes here --->\n",
        "residuals_poly = y_test - y_pred_poly\n",
        "\n",
        "# x-axis=y_test, y-axis=residuals\n",
        "#<--- Your code goes here --->\n",
        "plt.figure(figsize=(10, 6))\n",
        "plt.scatter(y_test, residuals_poly, alpha=0.5)\n",
        "plt.axhline(y=0, color='red', linestyle='--')\n",
        "plt.title('Residual Plot (Polynomial Linear Regression)')\n",
        "plt.xlabel('True Values')\n",
        "plt.ylabel('Residuals')\n",
        "plt.show()"
      ],
      "metadata": {
        "colab": {
          "base_uri": "https://localhost:8080/",
          "height": 564
        },
        "id": "t5p_xb5Vxm5H",
        "outputId": "4998d721-301a-416f-c231-c5b3c8c6fa48"
      },
      "execution_count": 64,
      "outputs": [
        {
          "output_type": "display_data",
          "data": {
            "text/plain": [
              "<Figure size 1000x600 with 1 Axes>"
            ],
            "image/png": "[encoded data removed]"
          },
          "metadata": {}
        }
      ]
    },
    {
      "cell_type": "markdown",
      "source": [
        "## That's it. We have improved the prediction!\n",
        "\n",
        "## Now, to finish, write a paragraph with the following:\n",
        "- your conclusions\n",
        "- what would you change to try to improve these results?"
      ],
      "metadata": {
        "id": "VKSwsSucxu0K"
      }
    },
    {
      "cell_type": "markdown",
      "source": [],
      "metadata": {
        "id": "1wfl8REKCJmQ"
      }
    },
    {
      "cell_type": "markdown",
      "source": [
        "The conclusions that can be made are that polynomial Linear Regression model seems to perform a little bit better of predicitve accuracy than comopared to the basic Linear Regraession model. With the lower values of evaluation metriscs such as MAE, MSE, and RMSE. To help improve the results different regression techniques could be used such as Ridge Regression or Lasso Regression. Using feature engineering techiniques could also be used to help improve the model's predictive performance. Finally, using a kmore thorough data preprocessing couold also helop with a better model performance."
      ],
      "metadata": {
        "id": "a9uFT8c9Aynl"
      }
    }
  ]
}