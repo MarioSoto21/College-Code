{
  "nbformat": 4,
  "nbformat_minor": 0,
  "metadata": {
    "colab": {
      "provenance": []
    },
    "kernelspec": {
      "name": "python3",
      "display_name": "Python 3"
    },
    "language_info": {
      "name": "python"
    }
  },
  "cells": [
    {
      "cell_type": "markdown",
      "source": [
        "# Mario Soto"
      ],
      "metadata": {
        "id": "b6eLCZJ9B1J5"
      }
    },
    {
      "cell_type": "code",
      "source": [
        "!unzip HW2_Files.zip"
      ],
      "metadata": {
        "colab": {
          "base_uri": "https://localhost:8080/",
          "height": 0
        },
        "id": "_DS6rsbldsQb",
        "outputId": "7e80a4e8-7bbe-4185-f70d-900abc5c0c63"
      },
      "execution_count": 14,
      "outputs": [
        {
          "output_type": "stream",
          "name": "stdout",
          "text": [
            "Archive:  HW2_Files.zip\n",
            "  inflating: data.csv                \n",
            "  inflating: __MACOSX/._data.csv     \n",
            "   creating: Speeches/\n",
            "  inflating: __MACOSX/._Speeches     \n",
            "  inflating: Speeches/FayettevilleSep9_2019.txt  \n",
            "  inflating: __MACOSX/Speeches/._FayettevilleSep9_2019.txt  \n",
            "  inflating: Speeches/TupeloNov1_2019.txt  \n",
            "  inflating: __MACOSX/Speeches/._TupeloNov1_2019.txt  \n",
            "  inflating: Speeches/NewHampshireAug15_2019.txt  \n",
            "  inflating: __MACOSX/Speeches/._NewHampshireAug15_2019.txt  \n",
            "  inflating: Speeches/HendersonSep13_2020.txt  \n",
            "  inflating: __MACOSX/Speeches/._HendersonSep13_2020.txt  \n",
            "  inflating: Speeches/OhioSep21_2020.txt  \n",
            "  inflating: __MACOSX/Speeches/._OhioSep21_2020.txt  \n",
            "  inflating: Speeches/PhoenixFeb19_2020.txt  \n",
            "  inflating: __MACOSX/Speeches/._PhoenixFeb19_2020.txt  \n",
            "  inflating: Speeches/BattleCreekDec19_2019.txt  \n",
            "  inflating: __MACOSX/Speeches/._BattleCreekDec19_2019.txt  \n",
            "  inflating: Speeches/PittsburghSep22_2020.txt  \n",
            "  inflating: __MACOSX/Speeches/._PittsburghSep22_2020.txt  \n",
            "  inflating: Speeches/TexasSep23_2019.txt  \n",
            "  inflating: __MACOSX/Speeches/._TexasSep23_2019.txt  \n",
            "  inflating: Speeches/ColoradorSpringsFeb20_2020.txt  \n",
            "  inflating: __MACOSX/Speeches/._ColoradorSpringsFeb20_2020.txt  \n",
            "  inflating: Speeches/LatrobeSep3_2020.txt  \n",
            "  inflating: __MACOSX/Speeches/._LatrobeSep3_2020.txt  \n",
            "  inflating: Speeches/DallasOct17_2019.txt  \n",
            "  inflating: __MACOSX/Speeches/._DallasOct17_2019.txt  \n",
            "  inflating: Speeches/DesMoinesJan30_2020.txt  \n",
            "  inflating: __MACOSX/Speeches/._DesMoinesJan30_2020.txt  \n",
            "  inflating: Speeches/MinneapolisOct10_2019.txt  \n",
            "  inflating: __MACOSX/Speeches/._MinneapolisOct10_2019.txt  \n",
            "  inflating: Speeches/YumaAug18_2020.txt  \n",
            "  inflating: __MACOSX/Speeches/._YumaAug18_2020.txt  \n",
            "  inflating: Speeches/ToledoJan9_2020.txt  \n",
            "  inflating: __MACOSX/Speeches/._ToledoJan9_2020.txt  \n",
            "  inflating: Speeches/CharlotteMar2_2020.txt  \n",
            "  inflating: __MACOSX/Speeches/._CharlotteMar2_2020.txt  \n",
            "  inflating: Speeches/Winston-SalemSep8_2020.txt  \n",
            "  inflating: __MACOSX/Speeches/._Winston-SalemSep8_2020.txt  \n",
            "  inflating: Speeches/TulsaJun20_2020.txt  \n",
            "  inflating: __MACOSX/Speeches/._TulsaJun20_2020.txt  \n",
            "  inflating: Speeches/NewMexicoSep16_2019.txt  \n",
            "  inflating: __MACOSX/Speeches/._NewMexicoSep16_2019.txt  \n",
            "  inflating: Speeches/HersheyDec10_2019.txt  \n",
            "  inflating: __MACOSX/Speeches/._HersheyDec10_2019.txt  \n",
            "  inflating: Speeches/NewHampshireFeb10_2020.txt  \n",
            "  inflating: __MACOSX/Speeches/._NewHampshireFeb10_2020.txt  \n",
            "  inflating: Speeches/LasVegasFeb21_2020.txt  \n",
            "  inflating: __MACOSX/Speeches/._LasVegasFeb21_2020.txt  \n",
            "  inflating: Speeches/NewHampshireAug28_2020.txt  \n",
            "  inflating: __MACOSX/Speeches/._NewHampshireAug28_2020.txt  \n",
            "  inflating: Speeches/MindenSep12_2020.txt  \n",
            "  inflating: __MACOSX/Speeches/._MindenSep12_2020.txt  \n",
            "  inflating: Speeches/FreelandSep10_2020.txt  \n",
            "  inflating: __MACOSX/Speeches/._FreelandSep10_2020.txt  \n",
            "  inflating: Speeches/CharlestonFeb28_2020.txt  \n",
            "  inflating: __MACOSX/Speeches/._CharlestonFeb28_2020.txt  \n",
            "  inflating: Speeches/MosineeSep17_2020.txt  \n",
            "  inflating: __MACOSX/Speeches/._MosineeSep17_2020.txt  \n",
            "  inflating: Speeches/MilwaukeeJan14_2020.txt  \n",
            "  inflating: __MACOSX/Speeches/._MilwaukeeJan14_2020.txt  \n",
            "  inflating: Speeches/LexingtonNov4_2019.txt  \n",
            "  inflating: __MACOSX/Speeches/._LexingtonNov4_2019.txt  \n",
            "  inflating: Speeches/BemidjiSep18_2020.txt  \n",
            "  inflating: __MACOSX/Speeches/._BemidjiSep18_2020.txt  \n",
            "  inflating: Speeches/CincinnatiAug1_2019.txt  \n",
            "  inflating: __MACOSX/Speeches/._CincinnatiAug1_2019.txt  \n",
            "  inflating: Speeches/FayettevilleSep19_2020.txt  \n",
            "  inflating: __MACOSX/Speeches/._FayettevilleSep19_2020.txt  \n",
            "  inflating: Speeches/WildwoodJan28_2020.txt  \n",
            "  inflating: __MACOSX/Speeches/._WildwoodJan28_2020.txt  \n",
            "  inflating: Speeches/GreenvilleJul17_2019.txt  \n",
            "  inflating: __MACOSX/Speeches/._GreenvilleJul17_2019.txt  \n",
            "  inflating: X_test.csv              \n",
            "  inflating: __MACOSX/._X_test.csv   \n",
            "  inflating: X_train.csv             \n",
            "  inflating: __MACOSX/._X_train.csv  \n"
          ]
        }
      ]
    },
    {
      "cell_type": "code",
      "execution_count": 1,
      "metadata": {
        "colab": {
          "base_uri": "https://localhost:8080/",
          "height": 0
        },
        "id": "dtQ_-gELaEIP",
        "outputId": "1c68cc7c-8bc7-41bf-828a-fadf9099ec84"
      },
      "outputs": [
        {
          "output_type": "stream",
          "name": "stdout",
          "text": [
            "  size  color  gender  price  weight bought\n",
            "0   XL    red  female  199.0   500.0    yes\n",
            "1    L  green    male   89.0   450.0     no\n",
            "2    M   blue     NaN   99.0   300.0    yes\n",
            "3  NaN  green  female  129.0     NaN     no\n",
            "4    M    red  female   79.0   410.0    yes\n",
            "5    M  green    male   89.0     NaN     no\n"
          ]
        }
      ],
      "source": [
        "import numpy as np\n",
        "import pandas as pd\n",
        "from sklearn.impute import SimpleImputer\n",
        "\n",
        "data = {\n",
        "    'size': ['XL', 'L', 'M', np.nan, 'M', 'M'],\n",
        "    'color': ['red', 'green', 'blue', 'green', 'red', 'green'],\n",
        "    'gender': ['female', 'male', np.nan, 'female', 'female', 'male'],\n",
        "    'price': [199.0, 89.0, np.nan, 129.0, 79.0, 89.0],\n",
        "    'weight': [500, 450, 300, np.nan, 410, np.nan],\n",
        "    'bought': ['yes', 'no', 'yes', 'no', 'yes', 'no']\n",
        "}\n",
        "\n",
        "df = pd.DataFrame(data)\n",
        "\n",
        "# Filling missing values in the 'price' column with a constant value using SimpleImputer\n",
        "imputer = SimpleImputer(strategy='constant', fill_value=99.0)\n",
        "df['price'] = imputer.fit_transform(df[['price']])\n",
        "\n",
        "print(df)\n"
      ]
    },
    {
      "cell_type": "code",
      "source": [
        "df = pd.DataFrame(data)\n",
        "\n",
        "# Filling missing values in the 'size' column with the most frequent value using SimpleImputer\n",
        "imputer = SimpleImputer(strategy='most_frequent')\n",
        "df['size'] = imputer.fit_transform(df[['size']])\n",
        "\n",
        "print(df)"
      ],
      "metadata": {
        "colab": {
          "base_uri": "https://localhost:8080/",
          "height": 0
        },
        "id": "BjsjvJUgaS0T",
        "outputId": "3c038407-9570-4d79-d52f-b4a2156a686f"
      },
      "execution_count": 2,
      "outputs": [
        {
          "output_type": "stream",
          "name": "stdout",
          "text": [
            "  size  color  gender  price  weight bought\n",
            "0   XL    red  female  199.0   500.0    yes\n",
            "1    L  green    male   89.0   450.0     no\n",
            "2    M   blue     NaN    NaN   300.0    yes\n",
            "3    M  green  female  129.0     NaN     no\n",
            "4    M    red  female   79.0   410.0    yes\n",
            "5    M  green    male   89.0     NaN     no\n"
          ]
        }
      ]
    },
    {
      "cell_type": "code",
      "source": [
        "import pandas as pd\n",
        "\n",
        "data = {\n",
        "    'weight': [75.0, 78.5, 85.0, 91.0, 84.5, 83.0, 68.0],\n",
        "    'weight_cut': ['light', 'normal', 'heavy', 'heavy', 'heavy', 'heavy', 'light']\n",
        "}\n",
        "\n",
        "df = pd.DataFrame(data)\n",
        "\n",
        "# Convert weight_cut categorical column into dummy variables\n",
        "dummy_df = pd.get_dummies(df['weight_cut'], prefix='weight_cut')\n",
        "\n",
        "# Concatenate dummy variables with the original DataFrame\n",
        "df = pd.concat([df, dummy_df], axis=1)\n",
        "\n",
        "# Drop the original weight_cut column\n",
        "df.drop(columns=['weight_cut'], inplace=True)\n",
        "\n",
        "print(df)\n"
      ],
      "metadata": {
        "colab": {
          "base_uri": "https://localhost:8080/",
          "height": 0
        },
        "id": "CR15jKaCa2f2",
        "outputId": "7ed26d69-58eb-455b-b027-d8843f05c8e0"
      },
      "execution_count": 3,
      "outputs": [
        {
          "output_type": "stream",
          "name": "stdout",
          "text": [
            "   weight  weight_cut_heavy  weight_cut_light  weight_cut_normal\n",
            "0    75.0                 0                 1                  0\n",
            "1    78.5                 0                 0                  1\n",
            "2    85.0                 1                 0                  0\n",
            "3    91.0                 1                 0                  0\n",
            "4    84.5                 1                 0                  0\n",
            "5    83.0                 1                 0                  0\n",
            "6    68.0                 0                 1                  0\n"
          ]
        }
      ]
    },
    {
      "cell_type": "code",
      "source": [
        "import pandas as pd\n",
        "\n",
        "data = {\n",
        "    'currency': [['PLN', 'USD'],\n",
        "                 ['EUR', 'USD', 'PLN', 'CAD'],\n",
        "                 ['GBP'],\n",
        "                 ['JPY', 'CZK', 'HUF'],\n",
        "                 []]\n",
        "}\n",
        "\n",
        "df = pd.DataFrame(data)\n",
        "\n",
        "# Assign a new column 'number' that takes the number of items in the currency column\n",
        "df['number'] = df['currency'].apply(lambda x: len(x))\n",
        "\n",
        "print(df)\n"
      ],
      "metadata": {
        "colab": {
          "base_uri": "https://localhost:8080/",
          "height": 0
        },
        "id": "a9DyKd9IbE4N",
        "outputId": "6195800d-4cd0-4dae-dd01-b04e759ecdf9"
      },
      "execution_count": 4,
      "outputs": [
        {
          "output_type": "stream",
          "name": "stdout",
          "text": [
            "               currency  number\n",
            "0            [PLN, USD]       2\n",
            "1  [EUR, USD, PLN, CAD]       4\n",
            "2                 [GBP]       1\n",
            "3       [JPY, CZK, HUF]       3\n",
            "4                    []       0\n"
          ]
        }
      ]
    },
    {
      "cell_type": "code",
      "source": [
        "df = pd.DataFrame(data)\n",
        "\n",
        "# Assign a new column 'PLN_flag' which stores 1 when 'PLN' is in the currency column, otherwise 0\n",
        "df['PLN_flag'] = df['currency'].apply(lambda x: 1 if 'PLN' in x else 0)\n",
        "\n",
        "print(df)"
      ],
      "metadata": {
        "colab": {
          "base_uri": "https://localhost:8080/",
          "height": 0
        },
        "id": "KXQlUVC7bOme",
        "outputId": "8ab27843-5c3a-4b8a-cafb-357b94f7eaed"
      },
      "execution_count": 5,
      "outputs": [
        {
          "output_type": "stream",
          "name": "stdout",
          "text": [
            "               currency  PLN_flag\n",
            "0            [PLN, USD]         1\n",
            "1  [EUR, USD, PLN, CAD]         1\n",
            "2                 [GBP]         0\n",
            "3       [JPY, CZK, HUF]         0\n",
            "4                    []         0\n"
          ]
        }
      ]
    },
    {
      "cell_type": "code",
      "source": [
        "import pandas as pd\n",
        "from sklearn.preprocessing import StandardScaler\n",
        "\n",
        "# Load the data from CSV file into a DataFrame\n",
        "df = pd.read_csv('data.csv')\n",
        "\n",
        "# Drop any non-numeric columns if needed\n",
        "numeric_columns = df.select_dtypes(include=['float64', 'int64']).columns\n",
        "df_numeric = df[numeric_columns]\n",
        "\n",
        "# Initialize the StandardScaler\n",
        "scaler = StandardScaler()\n",
        "\n",
        "# Fit and transform the data\n",
        "scaled_data = scaler.fit_transform(df_numeric)\n",
        "\n",
        "# Convert the scaled data back to a DataFrame\n",
        "df_scaled = pd.DataFrame(scaled_data, columns=df_numeric.columns)\n",
        "\n",
        "print(df_scaled)\n"
      ],
      "metadata": {
        "colab": {
          "base_uri": "https://localhost:8080/",
          "height": 0
        },
        "id": "ww1vioX9beD9",
        "outputId": "3426db6c-24a7-4c61-aeaa-6088bc56906f"
      },
      "execution_count": 8,
      "outputs": [
        {
          "output_type": "stream",
          "name": "stdout",
          "text": [
            "         var1      var2      var3      var4      var5\n",
            "0   -0.478538 -0.213717 -0.458355 -0.511380  0.063571\n",
            "1    1.374244  0.389500  1.292399  1.405497 -0.615974\n",
            "2    0.377694 -0.017838  0.390458  0.278322  0.742405\n",
            "3   -0.498584 -0.418499 -0.442705 -0.553083  0.472293\n",
            "4   -0.744858 -1.139688 -0.723583 -0.745037  0.077077\n",
            "..        ...       ...       ...       ...       ...\n",
            "138  0.142874 -0.961617  0.146234 -0.008573  1.026734\n",
            "139  0.088465  0.146878  0.093518 -0.035784 -0.002535\n",
            "140 -0.888040 -0.607700 -0.877201 -0.832880  0.635782\n",
            "141  1.623382  0.576475  1.555979  1.789996 -0.031679\n",
            "142 -1.111405 -1.633836 -1.090125 -0.985497  0.085607\n",
            "\n",
            "[143 rows x 5 columns]\n"
          ]
        }
      ]
    },
    {
      "cell_type": "code",
      "source": [
        "import pandas as pd\n",
        "from sklearn.preprocessing import StandardScaler\n",
        "\n",
        "# Load X_train.csv and X_test.csv into DataFrames\n",
        "X_train = pd.read_csv('X_train.csv')\n",
        "X_test = pd.read_csv('X_test.csv')\n",
        "\n",
        "# Initialize the StandardScaler\n",
        "scaler = StandardScaler()\n",
        "\n",
        "# Fit the scaler on X_train and transform X_train\n",
        "X_train_scaled = scaler.fit_transform(X_train)\n",
        "\n",
        "# Transform X_test using the scaler fitted on X_train\n",
        "X_test_scaled = scaler.transform(X_test)\n",
        "\n",
        "# Convert the scaled arrays back to DataFrames\n",
        "X_train_scaled_df = pd.DataFrame(X_train_scaled, columns=X_train.columns)\n",
        "X_test_scaled_df = pd.DataFrame(X_test_scaled, columns=X_test.columns)\n",
        "\n",
        "# Print the first five rows of X_train_scaled_df and X_test_scaled_df\n",
        "print(\"First five rows of X_train:\")\n",
        "print(X_train_scaled_df.head())\n",
        "\n",
        "print(\"\\nFirst five rows of X_test:\")\n",
        "print(X_test_scaled_df.head())\n"
      ],
      "metadata": {
        "colab": {
          "base_uri": "https://localhost:8080/",
          "height": 0
        },
        "id": "co9egR6McyTK",
        "outputId": "9a48273e-99dd-40f0-cd3a-79911ae595b4"
      },
      "execution_count": 231,
      "outputs": [
        {
          "output_type": "stream",
          "name": "stdout",
          "text": [
            "First five rows of X_train:\n",
            "       var1      var2      var3      var4      var5\n",
            "0 -0.349138 -1.438513 -0.411726 -0.390479 -1.863662\n",
            "1 -0.204687  0.312640 -0.133673 -0.275880  1.078073\n",
            "2 -0.329312 -0.215072 -0.317394 -0.364357 -1.579880\n",
            "3  1.027403  2.089824  1.046922  0.917584  0.316303\n",
            "4  1.828969  0.696001  1.763681  1.783821 -0.333674\n",
            "\n",
            "First five rows of X_test:\n",
            "       var1      var2      var3      var4      var5\n",
            "0 -0.468099 -0.141713 -0.444680 -0.485979  0.293371\n",
            "1  1.364457  0.499588  1.306438  1.334411 -0.391720\n",
            "2  0.378785  0.066532  0.404309  0.263973  0.977745\n",
            "3 -0.487926 -0.359424 -0.429027 -0.525583  0.705429\n",
            "4 -0.731511 -1.126145 -0.709964 -0.707875  0.306987\n"
          ]
        }
      ]
    },
    {
      "cell_type": "code",
      "source": [
        "import os\n",
        "import pandas as pd\n",
        "import re  # Add this import statement for regular expressions\n",
        "\n",
        "# List all files in the Speeches folder\n",
        "files = os.listdir('Speeches')\n",
        "\n",
        "# Create an empty DataFrame\n",
        "speech_df = pd.DataFrame(columns=['FileName', 'Content'])\n",
        "\n",
        "# Read the content of each file and append it to the DataFrame\n",
        "for file in files:\n",
        "    with open('Speeches/' + file, 'r') as f:\n",
        "        content = f.read()\n",
        "        speech_df = pd.concat([speech_df, pd.DataFrame({'FileName': [file], 'Content': [content]})], ignore_index=True)\n",
        "\n",
        "# Display the first few rows of the speech_df DataFrame\n",
        "print(speech_df.head())\n"
      ],
      "metadata": {
        "colab": {
          "base_uri": "https://localhost:8080/",
          "height": 0
        },
        "id": "99pW7UP2dJAb",
        "outputId": "e9658057-c068-43cf-f9c2-47d04435004a"
      },
      "execution_count": 341,
      "outputs": [
        {
          "output_type": "stream",
          "name": "stdout",
          "text": [
            "                     FileName  \\\n",
            "0      FreelandSep10_2020.txt   \n",
            "1        LatrobeSep3_2020.txt   \n",
            "2       BemidjiSep18_2020.txt   \n",
            "3  NewHampshireFeb10_2020.txt   \n",
            "4      LasVegasFeb21_2020.txt   \n",
            "\n",
            "                                             Content  \n",
            "0  We brought you a lot of car plants, Michigan. ...  \n",
            "1  So thank you Pennsylvania, very much. I'm thri...  \n",
            "2  There's a lot of people. That's great. Thank y...  \n",
            "3  Hello, Manchester, and I am thrilled to be in ...  \n",
            "4  Well, thank you very much. And hello Las Vegas...  \n"
          ]
        }
      ]
    },
    {
      "cell_type": "code",
      "source": [
        "# Step 2 - Extract City, Date, Day, Month, and Year\n",
        "# Define regex patterns\n",
        "date_pattern = r'(\\w{3})(\\d{1,2})_(\\d{4})'\n",
        "city_pattern = r'([A-Za-z]+)'\n",
        "\n",
        "month_map = {\n",
        "    'Jan': '1',\n",
        "    'Feb': '2',\n",
        "    'Mar': '3',\n",
        "    'Apr': '4',\n",
        "    'May': '5',\n",
        "    'Jun': '6',\n",
        "    'Jul': '7',\n",
        "    'Aug': '8',\n",
        "    'Sep': '9',\n",
        "    'Oct': '10',\n",
        "    'Nov': '11',\n",
        "    'Dec': '12'\n",
        "}\n",
        "\n",
        "# Extracting City, Date, Day, Month, and Year\n",
        "speech_df['City'] = speech_df['FileName'].apply(lambda x: re.search(city_pattern, x).group(1) if re.search(city_pattern, x) else None)\n",
        "speech_df['Date'] = speech_df['FileName'].apply(lambda x: re.search(date_pattern, x).group(1) + re.search(date_pattern, x).group(2) + re.search(date_pattern, x).group(3) if re.search(date_pattern, x) else None)\n",
        "speech_df['Day'] = speech_df['FileName'].apply(lambda x: re.search(date_pattern, x).group(2) if re.search(date_pattern, x) else None)\n",
        "speech_df['Month'] = speech_df['FileName'].apply(lambda x: re.search(date_pattern, x).group(1) if re.search(date_pattern, x) else None)\n",
        "speech_df['Year'] = speech_df['FileName'].apply(lambda x: re.search(date_pattern, x).group(3) if re.search(date_pattern, x) else None)\n",
        "\n",
        "# Convert Date to YYYY-MM-DD format\n",
        "speech_df['Date'] = pd.to_datetime(speech_df['Date'], format='%b%d%Y').dt.strftime('%Y-%m-%d')\n",
        "\n",
        "# Convert Month to numerical values\n",
        "speech_df['Month'] = speech_df['Month'].map(month_map)\n",
        "\n",
        "# Remove month abbreviations from City names\n",
        "speech_df['City'] = speech_df['City'].apply(lambda x: re.sub(r'(Feb|Oct|Aug|Dec|Jan|Jul|Mar|Sep)', '', x))\n",
        "\n",
        "# Drop the FileName column\n",
        "speech_df.drop(columns=['FileName'], inplace=True)\n",
        "\n",
        "# Display the DataFrame\n",
        "print(speech_df)"
      ],
      "metadata": {
        "colab": {
          "base_uri": "https://localhost:8080/",
          "height": 0
        },
        "id": "tO7GNT3ndZWu",
        "outputId": "56232088-35df-4458-f356-4dfe87bf1ef4"
      },
      "execution_count": 342,
      "outputs": [
        {
          "output_type": "stream",
          "name": "stdout",
          "text": [
            "                                              Content              City  \\\n",
            "0   We brought you a lot of car plants, Michigan. ...          Freeland   \n",
            "1   So thank you Pennsylvania, very much. I'm thri...           Latrobe   \n",
            "2   There's a lot of people. That's great. Thank y...           Bemidji   \n",
            "3   Hello, Manchester, and I am thrilled to be in ...      NewHampshire   \n",
            "4   Well, thank you very much. And hello Las Vegas...          LasVegas   \n",
            "5   What a crowd, what a crowd. Get those people o...      Fayetteville   \n",
            "6    Thank you very much, Phoenix. We love to be b...           Phoenix   \n",
            "7   Thank you, thank you. Wow. Wow, and I'm thrill...         Henderson   \n",
            "8   Hello, Houston. I am so thrilled to be here in...             Texas   \n",
            "9   Thank you very much. Thank you, Minnesota. Thi...       Minneapolis   \n",
            "10   Thank you everybody. Thank you and Vice Presi...      Fayetteville   \n",
            "11   Well, thank you to Vice President Pence. Than...           Hershey   \n",
            "12   Thank you very much everybody. Thank you. Wow...      NewHampshire   \n",
            "13  Thank you. Thank you very much. Hello Dallas. ...            Dallas   \n",
            "14  Thank you. Thank you. Thank you. All I can say...        Charleston   \n",
            "15  Hello Colorado. We love Colorado, most beautif...  ColoradorSprings   \n",
            "16  ell, thank you very much. And hello, Tupelo. T...         TupeloNov   \n",
            "17  Well, thank you very much. Vice President Mike...            Toledo   \n",
            "18  Thank you very much and thank you to the origi...      LexingtonNov   \n",
            "19  Wow, that's a big crowd. This is a big crowd. ...              Ohio   \n",
            "20  Thank you, thank you. So we begin, Oklahoma, w...          TulsaJun   \n",
            "21  Oh, thank you very much, everybody. Thank you....              Yuma   \n",
            "22  Thank you. Thank you. I love New Jersey and I'...          Wildwood   \n",
            "23   Wow, thank you. Thank you, New Mexico. Thank ...         NewMexico   \n",
            "24  Well, I thank you very much. So I want to star...            Minden   \n",
            "25  Hello, everybody. Hello, everybody. Wow. Hello...      NewHampshire   \n",
            "26  Thank you very much. Thank you. Thank you. Tha...        Greenville   \n",
            "27  I want to thank you very much. North Carolina,...         Charlotte   \n",
            "28  I worked so hard for this state. I worked so h...         DesMoines   \n",
            "29  Doesn't have the power. Doesn't have the stayi...        Pittsburgh   \n",
            "30  Well, thank you very much. Thank you. Thank yo...           Winston   \n",
            "31  Well thank you very much. And I'm thrilled to ...         Milwaukee   \n",
            "32  Thank you. Thank you. Thank you to Vice Presid...       BattleCreek   \n",
            "33  Thank you, thank you very much. Thank you very...           Mosinee   \n",
            "34  Thank you all. Thank you very much. Thank you ...        Cincinnati   \n",
            "\n",
            "          Date Day Month  Year  \n",
            "0   2020-09-10  10     9  2020  \n",
            "1   2020-09-03   3     9  2020  \n",
            "2   2020-09-18  18     9  2020  \n",
            "3   2020-02-10  10     2  2020  \n",
            "4   2020-02-21  21     2  2020  \n",
            "5   2020-09-19  19     9  2020  \n",
            "6   2020-02-19  19     2  2020  \n",
            "7   2020-09-13  13     9  2020  \n",
            "8   2019-09-23  23     9  2019  \n",
            "9   2019-10-10  10    10  2019  \n",
            "10  2019-09-09   9     9  2019  \n",
            "11  2019-12-10  10    12  2019  \n",
            "12  2019-08-15  15     8  2019  \n",
            "13  2019-10-17  17    10  2019  \n",
            "14  2020-02-28  28     2  2020  \n",
            "15  2020-02-20  20     2  2020  \n",
            "16  2019-11-01   1    11  2019  \n",
            "17  2020-01-09   9     1  2020  \n",
            "18  2019-11-04   4    11  2019  \n",
            "19  2020-09-21  21     9  2020  \n",
            "20  2020-06-20  20     6  2020  \n",
            "21  2020-08-18  18     8  2020  \n",
            "22  2020-01-28  28     1  2020  \n",
            "23  2019-09-16  16     9  2019  \n",
            "24  2020-09-12  12     9  2020  \n",
            "25  2020-08-28  28     8  2020  \n",
            "26  2019-07-17  17     7  2019  \n",
            "27  2020-03-02   2     3  2020  \n",
            "28  2020-01-30  30     1  2020  \n",
            "29  2020-09-22  22     9  2020  \n",
            "30  2020-09-08   8     9  2020  \n",
            "31  2020-01-14  14     1  2020  \n",
            "32  2019-12-19  19    12  2019  \n",
            "33  2020-09-17  17     9  2020  \n",
            "34  2019-08-01   1     8  2019  \n"
          ]
        }
      ]
    },
    {
      "cell_type": "code",
      "source": [
        "# List of words to track\n",
        "words_to_track = ['vote', 'tax', 'campaign', 'economy']\n",
        "\n",
        "# Function to calculate ratio of appearance for each word in each document\n",
        "def calculate_ratio(content):\n",
        "    words = content.lower().split()  # Split content into words\n",
        "    total_words = len(words)\n",
        "    ratios = []\n",
        "    for word in words_to_track:\n",
        "        word_count = words.count(word)\n",
        "        ratio = word_count / total_words if total_words > 0 else 0\n",
        "        ratios.append(ratio)\n",
        "    return ratios\n",
        "\n",
        "# Create new columns with ratios for each word\n",
        "ratios_df = speech_df['Content'].apply(calculate_ratio).apply(pd.Series)\n",
        "ratios_df.columns = ['vote_ratio', 'tax_ratio', 'campaign_ratio', 'economy_ratio']\n",
        "\n",
        "# Concatenate ratios_df with original speech_df\n",
        "speech_df = pd.concat([speech_df, ratios_df], axis=1)\n",
        "\n",
        "# Display the updated DataFrame\n",
        "print(speech_df)\n"
      ],
      "metadata": {
        "colab": {
          "base_uri": "https://localhost:8080/",
          "height": 0
        },
        "id": "CZJO3yO0eUt7",
        "outputId": "06426448-ce6a-4eee-ca73-6046f65f23f5"
      },
      "execution_count": 344,
      "outputs": [
        {
          "output_type": "stream",
          "name": "stdout",
          "text": [
            "                                              Content              City  \\\n",
            "0   We brought you a lot of car plants, Michigan. ...          Freeland   \n",
            "1   So thank you Pennsylvania, very much. I'm thri...           Latrobe   \n",
            "2   There's a lot of people. That's great. Thank y...           Bemidji   \n",
            "3   Hello, Manchester, and I am thrilled to be in ...      NewHampshire   \n",
            "4   Well, thank you very much. And hello Las Vegas...          LasVegas   \n",
            "5   What a crowd, what a crowd. Get those people o...      Fayetteville   \n",
            "6    Thank you very much, Phoenix. We love to be b...           Phoenix   \n",
            "7   Thank you, thank you. Wow. Wow, and I'm thrill...         Henderson   \n",
            "8   Hello, Houston. I am so thrilled to be here in...             Texas   \n",
            "9   Thank you very much. Thank you, Minnesota. Thi...       Minneapolis   \n",
            "10   Thank you everybody. Thank you and Vice Presi...      Fayetteville   \n",
            "11   Well, thank you to Vice President Pence. Than...           Hershey   \n",
            "12   Thank you very much everybody. Thank you. Wow...      NewHampshire   \n",
            "13  Thank you. Thank you very much. Hello Dallas. ...            Dallas   \n",
            "14  Thank you. Thank you. Thank you. All I can say...        Charleston   \n",
            "15  Hello Colorado. We love Colorado, most beautif...  ColoradorSprings   \n",
            "16  ell, thank you very much. And hello, Tupelo. T...         TupeloNov   \n",
            "17  Well, thank you very much. Vice President Mike...            Toledo   \n",
            "18  Thank you very much and thank you to the origi...      LexingtonNov   \n",
            "19  Wow, that's a big crowd. This is a big crowd. ...              Ohio   \n",
            "20  Thank you, thank you. So we begin, Oklahoma, w...          TulsaJun   \n",
            "21  Oh, thank you very much, everybody. Thank you....              Yuma   \n",
            "22  Thank you. Thank you. I love New Jersey and I'...          Wildwood   \n",
            "23   Wow, thank you. Thank you, New Mexico. Thank ...         NewMexico   \n",
            "24  Well, I thank you very much. So I want to star...            Minden   \n",
            "25  Hello, everybody. Hello, everybody. Wow. Hello...      NewHampshire   \n",
            "26  Thank you very much. Thank you. Thank you. Tha...        Greenville   \n",
            "27  I want to thank you very much. North Carolina,...         Charlotte   \n",
            "28  I worked so hard for this state. I worked so h...         DesMoines   \n",
            "29  Doesn't have the power. Doesn't have the stayi...        Pittsburgh   \n",
            "30  Well, thank you very much. Thank you. Thank yo...           Winston   \n",
            "31  Well thank you very much. And I'm thrilled to ...         Milwaukee   \n",
            "32  Thank you. Thank you. Thank you to Vice Presid...       BattleCreek   \n",
            "33  Thank you, thank you very much. Thank you very...           Mosinee   \n",
            "34  Thank you all. Thank you very much. Thank you ...        Cincinnati   \n",
            "\n",
            "          Date Day  Month  Year  vote_ratio  tax_ratio  campaign_ratio  \\\n",
            "0   2020-09-10  10      9  2020    0.000592   0.000099        0.000000   \n",
            "1   2020-09-03   3      9  2020    0.000321   0.000080        0.000000   \n",
            "2   2020-09-18  18      9  2020    0.000355   0.000059        0.000237   \n",
            "3   2020-02-10  10      2  2020    0.000608   0.000152        0.000000   \n",
            "4   2020-02-21  21      2  2020    0.000072   0.000145        0.000290   \n",
            "5   2020-09-19  19      9  2020    0.000371   0.000062        0.000247   \n",
            "6   2020-02-19  19      2  2020    0.000315   0.000420        0.000105   \n",
            "7   2020-09-13  13      9  2020    0.000336   0.000224        0.000000   \n",
            "8   2019-09-23  23      9  2019    0.000000   0.002010        0.000402   \n",
            "9   2019-10-10  10     10  2019    0.000172   0.000000        0.000773   \n",
            "10  2019-09-09   9      9  2019    0.001196   0.000217        0.000217   \n",
            "11  2019-12-10  10     12  2019    0.000407   0.000306        0.000102   \n",
            "12  2019-08-15  15      8  2019    0.000887   0.000197        0.001282   \n",
            "13  2019-10-17  17     10  2019    0.000286   0.000381        0.000476   \n",
            "14  2020-02-28  28      2  2020    0.000528   0.000106        0.000106   \n",
            "15  2020-02-20  20      2  2020    0.000429   0.000086        0.000172   \n",
            "16  2019-11-01   1     11  2019    0.000539   0.000216        0.000108   \n",
            "17  2020-01-09   9      1  2020    0.000186   0.000186        0.000186   \n",
            "18  2019-11-04   4     11  2019    0.001341   0.000223        0.000559   \n",
            "19  2020-09-21  21      9  2020    0.000185   0.000370        0.000093   \n",
            "20  2020-06-20  20      6  2020    0.000445   0.000178        0.000178   \n",
            "21  2020-08-18  18      8  2020    0.000793   0.000635        0.000317   \n",
            "22  2020-01-28  28      1  2020    0.000574   0.000861        0.000144   \n",
            "23  2019-09-16  16      9  2019    0.000522   0.000348        0.000435   \n",
            "24  2020-09-12  12      9  2020    0.000427   0.000213        0.000142   \n",
            "25  2020-08-28  28      8  2020    0.001663   0.000333        0.000111   \n",
            "26  2019-07-17  17      7  2019    0.000566   0.000189        0.000283   \n",
            "27  2020-03-02   2      3  2020    0.000300   0.000600        0.000150   \n",
            "28  2020-01-30  30      1  2020    0.000513   0.000598        0.000171   \n",
            "29  2020-09-22  22      9  2020    0.000498   0.000000        0.000166   \n",
            "30  2020-09-08   8      9  2020    0.000718   0.000539        0.000090   \n",
            "31  2020-01-14  14      1  2020    0.000423   0.000634        0.000106   \n",
            "32  2019-12-19  19     12  2019    0.000280   0.000112        0.000056   \n",
            "33  2020-09-17  17      9  2020    0.000550   0.000206        0.000000   \n",
            "34  2019-08-01   1      8  2019    0.000734   0.000367        0.000857   \n",
            "\n",
            "    economy_ratio  \n",
            "0        0.000395  \n",
            "1        0.000161  \n",
            "2        0.000000  \n",
            "3        0.000456  \n",
            "4        0.000072  \n",
            "5        0.000124  \n",
            "6        0.000315  \n",
            "7        0.000336  \n",
            "8        0.000804  \n",
            "9        0.000258  \n",
            "10       0.000435  \n",
            "11       0.000204  \n",
            "12       0.000099  \n",
            "13       0.000190  \n",
            "14       0.000000  \n",
            "15       0.000086  \n",
            "16       0.000108  \n",
            "17       0.000093  \n",
            "18       0.000447  \n",
            "19       0.000185  \n",
            "20       0.000089  \n",
            "21       0.000000  \n",
            "22       0.000144  \n",
            "23       0.000087  \n",
            "24       0.000142  \n",
            "25       0.000443  \n",
            "26       0.000660  \n",
            "27       0.000450  \n",
            "28       0.000171  \n",
            "29       0.000249  \n",
            "30       0.000539  \n",
            "31       0.000211  \n",
            "32       0.000280  \n",
            "33       0.000138  \n",
            "34       0.000245  \n"
          ]
        }
      ]
    },
    {
      "cell_type": "code",
      "source": [
        "# Convert Month and Year columns to numeric type\n",
        "speech_df['Month'] = pd.to_numeric(speech_df['Month'])\n",
        "speech_df['Year'] = pd.to_numeric(speech_df['Year'])\n",
        "\n",
        "# Group by Year and Month, then calculate mean\n",
        "grouped_df = speech_df.groupby(['Year', 'Month']).mean()\n",
        "\n",
        "# Create the vis_df DataFrame with the desired format\n",
        "vis_df = pd.DataFrame(index=grouped_df.index)\n",
        "vis_df['Y_M'] = grouped_df.index.map(lambda x: f\"{x[0]}_{x[1]}\")\n",
        "vis_df['r_vote'] = grouped_df['vote_ratio']\n",
        "vis_df['r_tax'] = grouped_df['tax_ratio']\n",
        "vis_df['r_campaign'] = grouped_df['campaign_ratio']\n",
        "vis_df['r_economy'] = grouped_df['economy_ratio']\n",
        "\n",
        "# Reset index to make Y_M a regular column\n",
        "vis_df.reset_index(drop=True, inplace=True)\n",
        "\n",
        "# Display the vis_df DataFrame\n",
        "print(vis_df)\n"
      ],
      "metadata": {
        "colab": {
          "base_uri": "https://localhost:8080/",
          "height": 0
        },
        "id": "NmCVquSigNGG",
        "outputId": "ac8e238e-ff8a-45f1-ba27-6b662aa9ad89"
      },
      "execution_count": 350,
      "outputs": [
        {
          "output_type": "stream",
          "name": "stdout",
          "text": [
            "        Y_M    r_vote     r_tax  r_campaign  r_economy\n",
            "0    2019_7  0.000566  0.000189    0.000283   0.000660\n",
            "1    2019_8  0.000811  0.000282    0.001069   0.000172\n",
            "2    2019_9  0.000573  0.000859    0.000351   0.000442\n",
            "3   2019_10  0.000229  0.000190    0.000624   0.000224\n",
            "4   2019_11  0.000940  0.000220    0.000333   0.000277\n",
            "5   2019_12  0.000344  0.000209    0.000079   0.000242\n",
            "6    2020_1  0.000424  0.000570    0.000151   0.000155\n",
            "7    2020_2  0.000390  0.000182    0.000134   0.000186\n",
            "8    2020_3  0.000300  0.000600    0.000150   0.000450\n",
            "9    2020_6  0.000445  0.000178    0.000178   0.000089\n",
            "10   2020_8  0.001228  0.000484    0.000214   0.000222\n",
            "11   2020_9  0.000435  0.000185    0.000097   0.000227\n"
          ]
        },
        {
          "output_type": "stream",
          "name": "stderr",
          "text": [
            "<ipython-input-350-f038b513d153>:6: FutureWarning: The default value of numeric_only in DataFrameGroupBy.mean is deprecated. In a future version, numeric_only will default to False. Either specify numeric_only or select only columns which should be valid for the function.\n",
            "  grouped_df = speech_df.groupby(['Year', 'Month']).mean()\n"
          ]
        }
      ]
    },
    {
      "cell_type": "code",
      "source": [
        "import numpy as np\n",
        "\n",
        "# Set the width of the bars\n",
        "bar_width = 0.2\n",
        "\n",
        "# Set the positions of the bars on the x-axis\n",
        "r1 = np.arange(len(vis_df['Y_M']))\n",
        "r2 = [x + bar_width for x in r1]\n",
        "r3 = [x + bar_width for x in r2]\n",
        "r4 = [x + bar_width for x in r3]\n",
        "\n",
        "# Plotting the bars\n",
        "plt.figure(figsize=(12, 8))\n",
        "plt.bar(r1, vis_df['r_vote'], color='b', width=bar_width, edgecolor='grey', label='Vote')\n",
        "plt.bar(r2, vis_df['r_tax'], color='orange', width=bar_width, edgecolor='grey', label='Tax')\n",
        "plt.bar(r3, vis_df['r_campaign'], color='g', width=bar_width, edgecolor='grey', label='Campaign')\n",
        "plt.bar(r4, vis_df['r_economy'], color='r', width=bar_width, edgecolor='grey', label='Economy')\n",
        "\n",
        "# Add xticks on the middle of the group bars\n",
        "plt.xlabel('Year_Month', fontweight='bold')\n",
        "plt.xticks([r + bar_width for r in range(len(vis_df['Y_M']))], vis_df['Y_M'], rotation=45)\n",
        "\n",
        "# Add y label\n",
        "plt.ylabel('Average Word Frequency', fontweight='bold')\n",
        "\n",
        "# Add title\n",
        "plt.title('Average Word Frequency Over Time', fontweight='bold')\n",
        "\n",
        "# Add legend\n",
        "plt.legend()\n",
        "\n",
        "# Show plot\n",
        "plt.tight_layout()\n",
        "plt.show()\n"
      ],
      "metadata": {
        "colab": {
          "base_uri": "https://localhost:8080/",
          "height": 578
        },
        "id": "8nwv2E-3gNVJ",
        "outputId": "295bf94b-c64d-4981-b53a-648696340e52"
      },
      "execution_count": 353,
      "outputs": [
        {
          "output_type": "display_data",
          "data": {
            "text/plain": [
              "<Figure size 1200x800 with 1 Axes>"
            ],
            "image/png": "[encoded data removed]"
          },
          "metadata": {}
        }
      ]
    }
  ]
}