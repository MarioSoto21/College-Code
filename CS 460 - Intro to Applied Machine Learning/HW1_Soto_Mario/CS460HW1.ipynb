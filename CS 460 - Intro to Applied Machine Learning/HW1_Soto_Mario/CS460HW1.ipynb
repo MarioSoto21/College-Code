{
  "nbformat": 4,
  "nbformat_minor": 0,
  "metadata": {
    "colab": {
      "provenance": []
    },
    "kernelspec": {
      "name": "python3",
      "display_name": "Python 3"
    },
    "language_info": {
      "name": "python"
    }
  },
  "cells": [
    {
      "cell_type": "markdown",
      "source": [
        "Mario Soto"
      ],
      "metadata": {
        "id": "fe4QANV54PXp"
      }
    },
    {
      "cell_type": "markdown",
      "source": [
        "1."
      ],
      "metadata": {
        "id": "-eBMQAgvz6BY"
      }
    },
    {
      "cell_type": "code",
      "source": [
        "import numpy as np\n",
        "import pandas as pd\n",
        "\n",
        "# Dictionary\n",
        "data = {\n",
        "    'size': ['XL', 'L', 'M', np.nan, 'M', 'M'],\n",
        "    'color': ['red', 'green', 'blue', 'green', 'red', 'green'],\n",
        "    'gender': ['female', 'male', np.nan, 'female', 'female', 'male'],\n",
        "    'price': [199.0, 89.0, np.nan, 129.0, 79.0, 89.0],\n",
        "    'weight': [500, 450, 300, np.nan, 410, np.nan],\n",
        "    'bought': ['yes', 'no', 'yes', 'no', 'yes', 'no']\n",
        "}\n",
        "\n",
        "# DataFrame\n",
        "df = pd.DataFrame(data)\n",
        "\n",
        "# percentage missing\n",
        "missing_per = (df.isnull().sum() /  len(df))\n",
        "\n",
        "# Round to two decimal places\n",
        "missing_per = missing_per.round(2)\n",
        "\n",
        "# Print the result\n",
        "print(missing_per)\n"
      ],
      "metadata": {
        "colab": {
          "base_uri": "https://localhost:8080/",
          "height": 0
        },
        "id": "r10ncb0m2W28",
        "outputId": "17e42d24-09f0-4653-b849-6d5b14b957e4"
      },
      "execution_count": 15,
      "outputs": [
        {
          "output_type": "stream",
          "name": "stdout",
          "text": [
            "size      0.17\n",
            "color     0.00\n",
            "gender    0.17\n",
            "price     0.17\n",
            "weight    0.33\n",
            "bought    0.00\n",
            "dtype: float64\n"
          ]
        }
      ]
    },
    {
      "cell_type": "markdown",
      "source": [
        "2"
      ],
      "metadata": {
        "id": "t9_GSIrz28T7"
      }
    },
    {
      "cell_type": "code",
      "source": [
        "from sklearn.datasets import load_iris\n",
        "\n",
        "# Loading IRIS\n",
        "data_raw = load_iris()\n",
        "\n",
        "# Get data and target from dataset\n",
        "data = data_raw['data']\n",
        "target = data_raw['target']\n",
        "\n",
        "# Print\n",
        "print(\"Shape of data array:\", data.shape)\n",
        "print(\"Shape of target array:\", target.shape)"
      ],
      "metadata": {
        "colab": {
          "base_uri": "https://localhost:8080/",
          "height": 0
        },
        "id": "GIhWWy574eTP",
        "outputId": "2226469a-54ef-46dd-a237-9e4a4dee807f"
      },
      "execution_count": 16,
      "outputs": [
        {
          "output_type": "stream",
          "name": "stdout",
          "text": [
            "Shape of data array: (150, 4)\n",
            "Shape of target array: (150,)\n"
          ]
        }
      ]
    },
    {
      "cell_type": "markdown",
      "source": [
        "3"
      ],
      "metadata": {
        "id": "9BT_R3fJ5Vzk"
      }
    },
    {
      "cell_type": "code",
      "source": [
        "import numpy as np\n",
        "np.set_printoptions(precision=2, suppress=True, linewidth=100)\n",
        "\n",
        "from sklearn.datasets import load_breast_cancer\n",
        "\n",
        "# Load the Breast Cancer dataset\n",
        "raw_data = load_breast_cancer()\n",
        "\n",
        "# Extract data and target from the dataset\n",
        "data = raw_data['data']\n",
        "target = raw_data['target']\n",
        "\n",
        "# Print\n",
        "print(data[:3])\n"
      ],
      "metadata": {
        "colab": {
          "base_uri": "https://localhost:8080/",
          "height": 0
        },
        "id": "vIH-G0Xg5WjF",
        "outputId": "85e723d9-3c7b-40f4-c8a9-4f4e5d48d822"
      },
      "execution_count": 26,
      "outputs": [
        {
          "output_type": "stream",
          "name": "stdout",
          "text": [
            "[[  17.99   10.38  122.8  1001.      0.12    0.28    0.3     0.15    0.24    0.08    1.09    0.91\n",
            "     8.59  153.4     0.01    0.05    0.05    0.02    0.03    0.01   25.38   17.33  184.6  2019.\n",
            "     0.16    0.67    0.71    0.27    0.46    0.12]\n",
            " [  20.57   17.77  132.9  1326.      0.08    0.08    0.09    0.07    0.18    0.06    0.54    0.73\n",
            "     3.4    74.08    0.01    0.01    0.02    0.01    0.01    0.     24.99   23.41  158.8  1956.\n",
            "     0.12    0.19    0.24    0.19    0.28    0.09]\n",
            " [  19.69   21.25  130.   1203.      0.11    0.16    0.2     0.13    0.21    0.06    0.75    0.79\n",
            "     4.58   94.03    0.01    0.04    0.04    0.02    0.02    0.     23.57   25.53  152.5  1709.\n",
            "     0.14    0.42    0.45    0.24    0.36    0.09]]\n"
          ]
        }
      ]
    },
    {
      "cell_type": "markdown",
      "source": [
        "4"
      ],
      "metadata": {
        "id": "5gnIXrei7aTl"
      }
    },
    {
      "cell_type": "code",
      "source": [
        "import numpy as np\n",
        "\n",
        "# Combine 'data' and 'target' arrays into one array\n",
        "all_data = np.c_[data, target]\n",
        "\n",
        "# Print\n",
        "print(all_data[:3])\n"
      ],
      "metadata": {
        "colab": {
          "base_uri": "https://localhost:8080/",
          "height": 0
        },
        "id": "OFM2N-3q7ZvJ",
        "outputId": "34f7b456-1fbb-4e67-a072-155652256330"
      },
      "execution_count": 29,
      "outputs": [
        {
          "output_type": "stream",
          "name": "stdout",
          "text": [
            "[[  17.99   10.38  122.8  1001.      0.12    0.28    0.3     0.15    0.24    0.08    1.09    0.91\n",
            "     8.59  153.4     0.01    0.05    0.05    0.02    0.03    0.01   25.38   17.33  184.6  2019.\n",
            "     0.16    0.67    0.71    0.27    0.46    0.12    0.  ]\n",
            " [  20.57   17.77  132.9  1326.      0.08    0.08    0.09    0.07    0.18    0.06    0.54    0.73\n",
            "     3.4    74.08    0.01    0.01    0.02    0.01    0.01    0.     24.99   23.41  158.8  1956.\n",
            "     0.12    0.19    0.24    0.19    0.28    0.09    0.  ]\n",
            " [  19.69   21.25  130.   1203.      0.11    0.16    0.2     0.13    0.21    0.06    0.75    0.79\n",
            "     4.58   94.03    0.01    0.04    0.04    0.02    0.02    0.     23.57   25.53  152.5  1709.\n",
            "     0.14    0.42    0.45    0.24    0.36    0.09    0.  ]]\n"
          ]
        }
      ]
    },
    {
      "cell_type": "markdown",
      "source": [
        "5"
      ],
      "metadata": {
        "id": "KxYAXO_e7tz4"
      }
    },
    {
      "cell_type": "code",
      "source": [
        "import pandas as pd\n",
        "\n",
        "# Get column names from the 'feature_names' key of raw_data\n",
        "column_names = np.append(raw_data['feature_names'], 'target')\n",
        "\n",
        "# Create DataFrame from all_data array with column names\n",
        "df = pd.DataFrame(all_data, columns=column_names)\n",
        "\n",
        "# Print\n",
        "print(df.head())\n"
      ],
      "metadata": {
        "colab": {
          "base_uri": "https://localhost:8080/",
          "height": 0
        },
        "id": "Eh1m3YAe7vah",
        "outputId": "9b9c9520-e0a6-4e3e-dabf-1c5610afe4e5"
      },
      "execution_count": 34,
      "outputs": [
        {
          "output_type": "stream",
          "name": "stdout",
          "text": [
            "   mean radius  mean texture  mean perimeter  mean area  mean smoothness  \\\n",
            "0        17.99         10.38          122.80     1001.0          0.11840   \n",
            "1        20.57         17.77          132.90     1326.0          0.08474   \n",
            "2        19.69         21.25          130.00     1203.0          0.10960   \n",
            "3        11.42         20.38           77.58      386.1          0.14250   \n",
            "4        20.29         14.34          135.10     1297.0          0.10030   \n",
            "\n",
            "   mean compactness  mean concavity  mean concave points  mean symmetry  \\\n",
            "0           0.27760          0.3001              0.14710         0.2419   \n",
            "1           0.07864          0.0869              0.07017         0.1812   \n",
            "2           0.15990          0.1974              0.12790         0.2069   \n",
            "3           0.28390          0.2414              0.10520         0.2597   \n",
            "4           0.13280          0.1980              0.10430         0.1809   \n",
            "\n",
            "   mean fractal dimension  ...  worst texture  worst perimeter  worst area  \\\n",
            "0                 0.07871  ...          17.33           184.60      2019.0   \n",
            "1                 0.05667  ...          23.41           158.80      1956.0   \n",
            "2                 0.05999  ...          25.53           152.50      1709.0   \n",
            "3                 0.09744  ...          26.50            98.87       567.7   \n",
            "4                 0.05883  ...          16.67           152.20      1575.0   \n",
            "\n",
            "   worst smoothness  worst compactness  worst concavity  worst concave points  \\\n",
            "0            0.1622             0.6656           0.7119                0.2654   \n",
            "1            0.1238             0.1866           0.2416                0.1860   \n",
            "2            0.1444             0.4245           0.4504                0.2430   \n",
            "3            0.2098             0.8663           0.6869                0.2575   \n",
            "4            0.1374             0.2050           0.4000                0.1625   \n",
            "\n",
            "   worst symmetry  worst fractal dimension  target  \n",
            "0          0.4601                  0.11890     0.0  \n",
            "1          0.2750                  0.08902     0.0  \n",
            "2          0.3613                  0.08758     0.0  \n",
            "3          0.6638                  0.17300     0.0  \n",
            "4          0.2364                  0.07678     0.0  \n",
            "\n",
            "[5 rows x 31 columns]\n"
          ]
        }
      ]
    },
    {
      "cell_type": "markdown",
      "source": [
        "6"
      ],
      "metadata": {
        "id": "3eXpnLyT8MJm"
      }
    },
    {
      "cell_type": "code",
      "source": [
        "import pandas as pd\n",
        "\n",
        "# Dictionary\n",
        "data = {\n",
        "    \"products\": [\n",
        "        \"bread eggs\",\n",
        "        \"bread eggs milk\",\n",
        "        \"milk cheese\",\n",
        "        \"bread butter cheese\",\n",
        "        \"eggs milk\",\n",
        "        \"bread milk butter cheese\",\n",
        "    ]\n",
        "}\n",
        "\n",
        "# Create DataFrame\n",
        "transactions = pd.DataFrame(data)\n",
        "\n",
        "# Split the 'products'\n",
        "expanded = transactions['products'].str.split(expand=True)\n",
        "\n",
        "# Fill missing value with NONE\n",
        "expanded = expanded.reindex(columns=range(4))\n",
        "\n",
        "# Print the expanded DataFrame to the console\n",
        "print(expanded)\n"
      ],
      "metadata": {
        "colab": {
          "base_uri": "https://localhost:8080/",
          "height": 0
        },
        "id": "xpY1_ias8NJ2",
        "outputId": "33ff87cc-5cdd-4d1b-fb9d-6697b50fd9c9"
      },
      "execution_count": 35,
      "outputs": [
        {
          "output_type": "stream",
          "name": "stdout",
          "text": [
            "       0       1       2       3\n",
            "0  bread    eggs    None    None\n",
            "1  bread    eggs    milk    None\n",
            "2   milk  cheese    None    None\n",
            "3  bread  butter  cheese    None\n",
            "4   eggs    milk    None    None\n",
            "5  bread    milk  butter  cheese\n"
          ]
        }
      ]
    },
    {
      "cell_type": "markdown",
      "source": [
        "7"
      ],
      "metadata": {
        "id": "Uuq96_Bp80F1"
      }
    },
    {
      "cell_type": "code",
      "source": [
        "# Extract unique names\n",
        "products = sorted(expanded.stack().unique())\n",
        "\n",
        "# Print\n",
        "print(products)\n"
      ],
      "metadata": {
        "colab": {
          "base_uri": "https://localhost:8080/",
          "height": 0
        },
        "id": "pG0Xy42R8_lY",
        "outputId": "0631505c-a167-4163-8e43-285664c48b2b"
      },
      "execution_count": 36,
      "outputs": [
        {
          "output_type": "stream",
          "name": "stdout",
          "text": [
            "['bread', 'butter', 'cheese', 'eggs', 'milk']\n"
          ]
        }
      ]
    }
  ]
}